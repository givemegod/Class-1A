{
  "nbformat": 4,
  "nbformat_minor": 0,
  "metadata": {
    "colab": {
      "provenance": [],
      "authorship_tag": "ABX9TyNThJ86xx3LxHr8r4cXCCke",
      "include_colab_link": true
    },
    "kernelspec": {
      "name": "python3",
      "display_name": "Python 3"
    },
    "language_info": {
      "name": "python"
    }
  },
  "cells": [
    {
      "cell_type": "markdown",
      "metadata": {
        "id": "view-in-github",
        "colab_type": "text"
      },
      "source": [
        "<a href=\"https://colab.research.google.com/github/givemegod/Class-1A/blob/main/App.ipynb\" target=\"_parent\"><img src=\"https://colab.research.google.com/assets/colab-badge.svg\" alt=\"Open In Colab\"/></a>"
      ]
    },
    {
      "cell_type": "code",
      "execution_count": 1,
      "metadata": {
        "colab": {
          "base_uri": "https://localhost:8080/"
        },
        "id": "kxeqyDguXlMs",
        "outputId": "6025900d-fcf7-482c-d832-fcb8aee22177"
      },
      "outputs": [
        {
          "output_type": "stream",
          "name": "stdout",
          "text": [
            "Hellow World\n",
            "Sir Ameen\n",
            "Ali\n",
            "Sir Aneeq\n",
            "<class 'str'>\n",
            "<class 'int'>\n",
            "<class 'float'>\n",
            "True\n",
            "False\n",
            "7\n",
            "6\n",
            "21\n",
            "11.0\n"
          ]
        }
      ],
      "source": [
        "print(\"Hellow World\")\n",
        "crname=\"Sir Ameen\"\n",
        "print(crname)\n",
        "crname=\"Ali\"\n",
        "print(crname)\n",
        "techername=\"Sir Aneeq\"\n",
        "print(techername)\n",
        "name=\"GULFAM\"\n",
        "age=37\n",
        "hight=60.06\n",
        "print(type(name))\n",
        "print(type(age))\n",
        "print(type(hight))\n",
        "allowed:bool=True\n",
        "print(allowed)\n",
        "allow:bool=False\n",
        "print(allow)\n",
        "a=2\n",
        "b=5\n",
        "sum=a+b\n",
        "print(sum)\n",
        "a=10\n",
        "b=4\n",
        "subtraction=a-b\n",
        "print(subtraction)\n",
        "a=7\n",
        "b=3\n",
        "multiply=a*b\n",
        "print(multiply)\n",
        "a=44\n",
        "b=4\n",
        "division=a/b\n",
        "print(division)\n",
        "\n",
        "\n",
        "\n",
        "\n",
        "\n"
      ]
    }
  ]
}